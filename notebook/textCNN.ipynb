{
 "cells": [
  {
   "cell_type": "code",
   "execution_count": 1,
   "metadata": {},
   "outputs": [
    {
     "name": "stderr",
     "output_type": "stream",
     "text": [
      "d:\\Anaconda3\\lib\\site-packages\\h5py\\__init__.py:36: FutureWarning: Conversion of the second argument of issubdtype from `float` to `np.floating` is deprecated. In future, it will be treated as `np.float64 == np.dtype(float).type`.\n",
      "  from ._conv import register_converters as _register_converters\n"
     ]
    }
   ],
   "source": [
    "# 输入\n",
    "import tensorflow as tf\n",
    "import numpy as np\n",
    "import math"
   ]
  },
  {
   "cell_type": "code",
   "execution_count": 2,
   "metadata": {},
   "outputs": [],
   "source": [
    "seq_length = 25\n",
    "num_class = 1000\n",
    "input_x = tf.placeholder(tf.int32,[None,seq_length],name='input_x')\n",
    "input_y = tf.placeholder(tf.float32,[None,num_class],name='input_y')\n",
    "keep_prob=tf.placeholder(tf.float32,name='keep_prob')"
   ]
  },
  {
   "cell_type": "code",
   "execution_count": 3,
   "metadata": {},
   "outputs": [
    {
     "name": "stdout",
     "output_type": "stream",
     "text": [
      "Tensor(\"input_x:0\", shape=(?, 25), dtype=int32)\n",
      "Tensor(\"input_y:0\", shape=(?, 1000), dtype=float32)\n"
     ]
    }
   ],
   "source": [
    "print(input_x)\n",
    "print(input_y)"
   ]
  },
  {
   "cell_type": "markdown",
   "metadata": {},
   "source": [
    "#嵌入层"
   ]
  },
  {
   "cell_type": "code",
   "execution_count": 4,
   "metadata": {},
   "outputs": [
    {
     "name": "stdout",
     "output_type": "stream",
     "text": [
      "<tf.Variable 'embedding:0' shape=(140000, 200) dtype=float32_ref>\n",
      "Tensor(\"embedding_lookup:0\", shape=(?, 25, 200), dtype=float32)\n",
      "Tensor(\"ExpandDims:0\", shape=(?, 25, 200, 1), dtype=float32)\n"
     ]
    }
   ],
   "source": [
    "vacab_size = 140000\n",
    "embedding_dim = 200\n",
    "embedding = tf.get_variable('embedding',[vacab_size,embedding_dim])\n",
    "embedding_inputs = tf.nn.embedding_lookup(embedding,input_x)\n",
    "\n",
    "embedding_inputs_expend = tf.expand_dims(embedding_inputs,-1)\n",
    "\n",
    "\n",
    "print(embedding)\n",
    "print(embedding_inputs)\n",
    "print(embedding_inputs_expend)"
   ]
  },
  {
   "cell_type": "code",
   "execution_count": 5,
   "metadata": {},
   "outputs": [
    {
     "name": "stdout",
     "output_type": "stream",
     "text": [
      "Tensor(\"conv:0\", shape=(?, 23, 1, 2), dtype=float32)\n",
      "Tensor(\"conv_1:0\", shape=(?, 22, 1, 2), dtype=float32)\n",
      "Tensor(\"conv_2:0\", shape=(?, 21, 1, 2), dtype=float32)\n",
      "[<tf.Tensor 'pool:0' shape=(?, 1, 1, 2) dtype=float32>, <tf.Tensor 'pool_1:0' shape=(?, 1, 1, 2) dtype=float32>, <tf.Tensor 'pool_2:0' shape=(?, 1, 1, 2) dtype=float32>]\n"
     ]
    }
   ],
   "source": [
    "# cnn pooling\n",
    "filter_sizes = [3,4,5]\n",
    "filter_nums = 2\n",
    "pooled_outputs = []\n",
    "for filter_size in filter_sizes:\n",
    "    filter_shape = [filter_size,embedding_dim,1,filter_nums]\n",
    "\n",
    "    W = tf.Variable(tf.truncated_normal(filter_shape,stddev=0.1),name='W')\n",
    "    b = tf.Variable(tf.constant(0.1,shape=[filter_nums]),name='b')\n",
    "\n",
    "    conv = tf.nn.conv2d(input=embedding_inputs_expend,filter=W,strides=[1,1,1,1],padding='VALID',name='conv')\n",
    "    print(conv)\n",
    "\n",
    "    h = tf.nn.relu(tf.nn.bias_add(conv,b),name = 'relu')\n",
    "    \n",
    "    pooled = tf.nn.max_pool(h,ksize=[1,seq_length-filter_size+1,1,1],strides=[1,1,1,1],padding='VALID',name='pool')\n",
    "    pooled_outputs.append(pooled)\n",
    "print(pooled_outputs)"
   ]
  },
  {
   "cell_type": "code",
   "execution_count": 6,
   "metadata": {},
   "outputs": [
    {
     "name": "stdout",
     "output_type": "stream",
     "text": [
      "Tensor(\"concat:0\", shape=(?, 1, 1, 6), dtype=float32)\n"
     ]
    }
   ],
   "source": [
    "num_filters_totle = filter_nums * len(filter_sizes)\n",
    "h_pool = tf.concat(pooled_outputs,3)\n",
    "print(h_pool)"
   ]
  },
  {
   "cell_type": "code",
   "execution_count": 7,
   "metadata": {},
   "outputs": [
    {
     "name": "stdout",
     "output_type": "stream",
     "text": [
      "Tensor(\"Reshape:0\", shape=(?, 6), dtype=float32)\n"
     ]
    }
   ],
   "source": [
    "h_pool_flat = tf.reshape(h_pool,[-1,num_filters_totle])\n",
    "print(h_pool_flat)"
   ]
  },
  {
   "cell_type": "code",
   "execution_count": 8,
   "metadata": {},
   "outputs": [
    {
     "name": "stdout",
     "output_type": "stream",
     "text": [
      "Tensor(\"scores:0\", shape=(?, 1000), dtype=float32)\n"
     ]
    }
   ],
   "source": [
    "# 全连接层 计算最终的输出结果\n",
    "h_drop = tf.nn.dropout(h_pool_flat,keep_prob)\n",
    "\n",
    "w1 = tf.get_variable('w1',shape=[num_filters_totle,num_class],initializer=tf.contrib.layers.xavier_initializer())\n",
    "b1 = tf.Variable(tf.constant(0.1,shape=[num_class]),name='b1')\n",
    "l2_loss = tf.constant(0.0)\n",
    "l2_loss += tf.nn.l2_loss(w1)\n",
    "l2_loss += tf.nn.l2_loss(b1)\n",
    "\n",
    "scores = tf.nn.xw_plus_b(h_drop,w1,b1,name='scores')\n",
    "print(scores)"
   ]
  },
  {
   "cell_type": "code",
   "execution_count": 9,
   "metadata": {},
   "outputs": [
    {
     "name": "stdout",
     "output_type": "stream",
     "text": [
      "WARNING:tensorflow:From <ipython-input-9-4fc1c3e7320a>:2: softmax_cross_entropy_with_logits (from tensorflow.python.ops.nn_ops) is deprecated and will be removed in a future version.\n",
      "Instructions for updating:\n",
      "\n",
      "Future major versions of TensorFlow will allow gradients to flow\n",
      "into the labels input on backprop by default.\n",
      "\n",
      "See @{tf.nn.softmax_cross_entropy_with_logits_v2}.\n",
      "\n",
      "Tensor(\"add_2:0\", shape=(), dtype=float32)\n"
     ]
    }
   ],
   "source": [
    "# 损失函数\n",
    "losses = tf.nn.softmax_cross_entropy_with_logits(logits=scores,labels=input_y)\n",
    "l2_reg_lambed = 0.0\n",
    "loss = tf.reduce_mean(losses)+l2_reg_lambed*l2_loss\n",
    "print(loss)"
   ]
  },
  {
   "cell_type": "code",
   "execution_count": 10,
   "metadata": {},
   "outputs": [
    {
     "name": "stdout",
     "output_type": "stream",
     "text": [
      "Tensor(\"input_y:0\", shape=(?, 1000), dtype=float32)\n",
      "Tensor(\"scores:0\", shape=(?, 1000), dtype=float32)\n"
     ]
    }
   ],
   "source": [
    "# accuracy \n",
    "print(input_y)\n",
    "print(scores)"
   ]
  },
  {
   "cell_type": "code",
   "execution_count": 11,
   "metadata": {},
   "outputs": [
    {
     "name": "stdout",
     "output_type": "stream",
     "text": [
      "Tensor(\"TopKV2:1\", shape=(?, 5), dtype=int32)\n",
      "Tensor(\"TopKV2_1:1\", shape=(?, 5), dtype=int32)\n"
     ]
    }
   ],
   "source": [
    "# 获取top_k 的索引，后期通过索引可找到相应的词的位置\n",
    "top_k = 5\n",
    "_,input_result_idx = tf.nn.top_k(input_y,top_k)\n",
    "_,predict_result_idx = tf.nn.top_k(scores,top_k)\n",
    "print(input_result_idx)\n",
    "print(predict_result_idx)"
   ]
  },
  {
   "cell_type": "code",
   "execution_count": 19,
   "metadata": {},
   "outputs": [
    {
     "name": "stdout",
     "output_type": "stream",
     "text": [
      "Tensor(\"map_12/TensorArrayStack/TensorArrayGatherV3:0\", shape=(5,), dtype=int32)\n"
     ]
    },
    {
     "ename": "TypeError",
     "evalue": "Using a `tf.Tensor` as a Python `bool` is not allowed. Use `if t is not None:` instead of `if t:` to test if a tensor is defined, and use TensorFlow ops such as tf.cond to execute subgraphs conditioned on the value of a tensor.",
     "output_type": "error",
     "traceback": [
      "\u001b[1;31m---------------------------------------------------------------------------\u001b[0m",
      "\u001b[1;31mTypeError\u001b[0m                                 Traceback (most recent call last)",
      "\u001b[1;32m<ipython-input-19-dc71f0a1df95>\u001b[0m in \u001b[0;36m<module>\u001b[1;34m()\u001b[0m\n\u001b[0;32m     23\u001b[0m         \u001b[1;32mfor\u001b[0m \u001b[0mj\u001b[0m \u001b[1;32min\u001b[0m \u001b[0mrange\u001b[0m\u001b[1;33m(\u001b[0m\u001b[0mtop_k\u001b[0m\u001b[1;33m)\u001b[0m\u001b[1;33m:\u001b[0m\u001b[1;33m\u001b[0m\u001b[0m\n\u001b[0;32m     24\u001b[0m             \u001b[0minpt\u001b[0m \u001b[1;33m=\u001b[0m \u001b[0minput_y\u001b[0m\u001b[1;33m[\u001b[0m\u001b[0mi\u001b[0m\u001b[1;33m]\u001b[0m\u001b[1;33m\u001b[0m\u001b[0m\n\u001b[1;32m---> 25\u001b[1;33m             \u001b[1;32mif\u001b[0m \u001b[0mtf\u001b[0m\u001b[1;33m.\u001b[0m\u001b[0mcast\u001b[0m\u001b[1;33m(\u001b[0m\u001b[0mtf\u001b[0m\u001b[1;33m.\u001b[0m\u001b[0mequal\u001b[0m\u001b[1;33m(\u001b[0m\u001b[0mpredict\u001b[0m\u001b[1;33m,\u001b[0m\u001b[0minpt\u001b[0m\u001b[1;33m)\u001b[0m\u001b[1;33m,\u001b[0m\u001b[0mdtype\u001b[0m\u001b[1;33m=\u001b[0m\u001b[0mtf\u001b[0m\u001b[1;33m.\u001b[0m\u001b[0mbool\u001b[0m\u001b[1;33m)\u001b[0m\u001b[1;33m:\u001b[0m\u001b[1;33m\u001b[0m\u001b[0m\n\u001b[0m\u001b[0;32m     26\u001b[0m                 \u001b[0mright_label_num\u001b[0m \u001b[1;33m+=\u001b[0m \u001b[1;36m1\u001b[0m\u001b[1;33m\u001b[0m\u001b[0m\n\u001b[0;32m     27\u001b[0m                 \u001b[0mright_labbel_at_pos_num\u001b[0m\u001b[1;33m[\u001b[0m\u001b[0mpos\u001b[0m\u001b[1;33m]\u001b[0m \u001b[1;33m+=\u001b[0m \u001b[1;36m1\u001b[0m\u001b[1;33m\u001b[0m\u001b[0m\n",
      "\u001b[1;32md:\\Anaconda3\\lib\\site-packages\\tensorflow\\python\\framework\\ops.py\u001b[0m in \u001b[0;36m__bool__\u001b[1;34m(self)\u001b[0m\n\u001b[0;32m    663\u001b[0m       \u001b[0;31m`\u001b[0m\u001b[0mTypeError\u001b[0m\u001b[0;31m`\u001b[0m\u001b[1;33m.\u001b[0m\u001b[1;33m\u001b[0m\u001b[0m\n\u001b[0;32m    664\u001b[0m     \"\"\"\n\u001b[1;32m--> 665\u001b[1;33m     raise TypeError(\"Using a `tf.Tensor` as a Python `bool` is not allowed. \"\n\u001b[0m\u001b[0;32m    666\u001b[0m                     \u001b[1;34m\"Use `if t is not None:` instead of `if t:` to test if a \"\u001b[0m\u001b[1;33m\u001b[0m\u001b[0m\n\u001b[0;32m    667\u001b[0m                     \u001b[1;34m\"tensor is defined, and use TensorFlow ops such as \"\u001b[0m\u001b[1;33m\u001b[0m\u001b[0m\n",
      "\u001b[1;31mTypeError\u001b[0m: Using a `tf.Tensor` as a Python `bool` is not allowed. Use `if t is not None:` instead of `if t:` to test if a tensor is defined, and use TensorFlow ops such as tf.cond to execute subgraphs conditioned on the value of a tensor."
     ]
    }
   ],
   "source": [
    "#有了两个的索引，用来计算acc\n",
    "batch_size = 1\n",
    "right_label_num = 0\n",
    "right_labbel_at_pos_num = tf.Variable(tf.zeros(shape=[top_k]),name='right_labbel_at_pos_num')\n",
    "sample_num = 0\n",
    "all_marked_label_num = 0\n",
    "\n",
    "for bh in range(batch_size):\n",
    "    sample_num += 1\n",
    "    # 取出两个预测的值 和实际的值\n",
    "    input_y = input_result_idx[bh]\n",
    "    predict_y = predict_result_idx[bh]    \n",
    "    # 实际的值去重\n",
    "    input_y,_ = tf.unique(input_y)\n",
    "   \n",
    "    # 将两个tensor变成可以迭代的tensor\n",
    "    input_y = tf.map_fn(lambda x:x, input_y)\n",
    "    predict_y = tf.map_fn(lambda x:x,predict_y)\n",
    "    \n",
    "    print(predict_y)\n",
    "    for i in range(top_k):\n",
    "        predict = predict_y[i]\n",
    "        for j in range(top_k):\n",
    "            inpt = input_y[i]\n",
    "            if tf.cast(tf.equal(predict,inpt),dtype=tf.bool):\n",
    "                right_label_num += 1\n",
    "                right_labbel_at_pos_num[pos] += 1\n",
    "\n",
    "\n",
    "precision = 0.0\n",
    "for pos in range(top_k):\n",
    "    right_num = right_labbel_at_pos_num[pos]\n",
    "    precision += ((right_num / float(sample_num))) / math.log(2.0 + pos)\n",
    "    \n",
    "recall = float(right_label_num) / all_marked_label_num\n",
    "acc =  (precision * recall) / (precision + recall)\n",
    "\n",
    "    \n",
    "print(input_y[1])"
   ]
  },
  {
   "cell_type": "code",
   "execution_count": null,
   "metadata": {},
   "outputs": [],
   "source": []
  }
 ],
 "metadata": {
  "kernelspec": {
   "display_name": "Python 3",
   "language": "python",
   "name": "python3"
  },
  "language_info": {
   "codemirror_mode": {
    "name": "ipython",
    "version": 3
   },
   "file_extension": ".py",
   "mimetype": "text/x-python",
   "name": "python",
   "nbconvert_exporter": "python",
   "pygments_lexer": "ipython3",
   "version": "3.6.5"
  }
 },
 "nbformat": 4,
 "nbformat_minor": 2
}
